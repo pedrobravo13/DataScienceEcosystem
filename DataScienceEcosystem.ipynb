{
 "cells": [
  {
   "cell_type": "markdown",
   "id": "412500e9-80e6-4b53-950b-e336de0f653e",
   "metadata": {},
   "source": [
    "# Data Science Tools and Ecosystem"
   ]
  },
  {
   "cell_type": "markdown",
   "id": "d68a1fbb-9aed-4beb-9b20-d40d876b7d43",
   "metadata": {},
   "source": [
    "## In this notebook, Data Science Tools and Ecosystem are summarized."
   ]
  },
  {
   "cell_type": "markdown",
   "id": "2583febb-a646-4306-89f8-5a914dc5e237",
   "metadata": {},
   "source": [
    "__Objectives:__\n",
    "+ List popular languages that Data Scientists use are\n",
    "+ List commonly used libraries used by Data Scientists include\n",
    "+ List Data Science Tools"
   ]
  },
  {
   "cell_type": "markdown",
   "id": "9eab88fa-6a26-478e-b3a5-529f2be6c480",
   "metadata": {},
   "source": [
    "Some of the popular languages that Data Scientists use are:\n",
    "1. Pyhton\n",
    "2. R\n",
    "3. Java\n",
    "4. JavaScript"
   ]
  },
  {
   "cell_type": "markdown",
   "id": "23923afb-8724-41d4-858d-3d3745be8e27",
   "metadata": {},
   "source": [
    "Some of the commonly used libraries used by Data Scientists include:\n",
    "1. Pandas\n",
    "2. NumPy\n",
    "3. Matplotlib\n",
    "4. Seaborn"
   ]
  },
  {
   "cell_type": "markdown",
   "id": "800dc2b0-1725-4e3f-b2b4-8588d9d77604",
   "metadata": {},
   "source": [
    "Data Science Tools:\n",
    "1. Jupyter Notebook\n",
    "2. RStudio\n",
    "3. Apache Hadoop\n",
    "4. Tableau"
   ]
  },
  {
   "cell_type": "markdown",
   "id": "b74422d1-1efd-48a4-8909-bf42ceb0b60c",
   "metadata": {},
   "source": [
    "### Below are a few examples of evaluating arithmetic expressions in Python:"
   ]
  },
  {
   "cell_type": "code",
   "execution_count": 3,
   "id": "5f194ee4-8fa9-459d-bc6b-30cab73bfe9b",
   "metadata": {},
   "outputs": [
    {
     "data": {
      "text/plain": [
       "17"
      ]
     },
     "execution_count": 3,
     "metadata": {},
     "output_type": "execute_result"
    }
   ],
   "source": [
    "# This a simple arithmetic expression to mutiply then add integers\n",
    "(3*4)+5"
   ]
  },
  {
   "cell_type": "code",
   "execution_count": 7,
   "id": "141c854d-4d81-4d3a-9747-68ec7efa82db",
   "metadata": {},
   "outputs": [
    {
     "name": "stdout",
     "output_type": "stream",
     "text": [
      "3 horas y 20 minutos\n"
     ]
    }
   ],
   "source": [
    "# This will convert 200 minutes to hours by diving by 60\n",
    "minutes = 200\n",
    "hours = minutes // 60  # División entera para obtener las horas completas\n",
    "remaining_minutes = minutes % 60  # Resto de la división para obtener los minutos restantes\n",
    "\n",
    "print(f\"{hours} horas y {remaining_minutes} minutos\")"
   ]
  },
  {
   "cell_type": "markdown",
   "id": "8fcda96b-7daa-460a-8e7f-dc1931e082b6",
   "metadata": {},
   "source": [
    "## Author\n",
    "Pedro Bravo"
   ]
  }
 ],
 "metadata": {
  "kernelspec": {
   "display_name": "Python 3 (ipykernel)",
   "language": "python",
   "name": "python3"
  },
  "language_info": {
   "codemirror_mode": {
    "name": "ipython",
    "version": 3
   },
   "file_extension": ".py",
   "mimetype": "text/x-python",
   "name": "python",
   "nbconvert_exporter": "python",
   "pygments_lexer": "ipython3",
   "version": "3.12.4"
  }
 },
 "nbformat": 4,
 "nbformat_minor": 5
}
